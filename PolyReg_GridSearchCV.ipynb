{
 "metadata": {
  "language_info": {
   "codemirror_mode": {
    "name": "ipython",
    "version": 3
   },
   "file_extension": ".py",
   "mimetype": "text/x-python",
   "name": "python",
   "nbconvert_exporter": "python",
   "pygments_lexer": "ipython3",
   "version": "3.8.5-final"
  },
  "orig_nbformat": 2,
  "kernelspec": {
   "name": "python3",
   "display_name": "Python 3",
   "language": "python"
  }
 },
 "nbformat": 4,
 "nbformat_minor": 2,
 "cells": [
  {
   "cell_type": "code",
   "execution_count": 1,
   "metadata": {},
   "outputs": [],
   "source": [
    "from sklearn.preprocessing import PolynomialFeatures\n",
    "from sklearn.linear_model import LinearRegression\n",
    "from sklearn.pipeline import make_pipeline\n",
    "from sklearn.metrics import r2_score\n",
    "import numpy as np\n",
    "import pandas as pd\n",
    "from sklearn.model_selection import GridSearchCV\n",
    "import warnings\n",
    "warnings.filterwarnings(\"ignore\")"
   ]
  },
  {
   "cell_type": "code",
   "execution_count": 2,
   "metadata": {},
   "outputs": [],
   "source": [
    "df_train = pd.read_csv('train.csv')\n",
    "df_test = pd.read_csv('test.csv')\n",
    "X_train = df_train['x'].values.reshape(-1,1)\n",
    "y_train = df_train['y']\n",
    "X_test = df_test['x'].values.reshape(-1,1)\n",
    "y_test = df_test['y']"
   ]
  },
  {
   "cell_type": "code",
   "execution_count": 3,
   "metadata": {},
   "outputs": [
    {
     "output_type": "stream",
     "name": "stdout",
     "text": [
      "0.9887991524196075\n{'linearregression__fit_intercept': True, 'linearregression__normalize': True, 'polynomialfeatures__degree': 1}\n"
     ]
    }
   ],
   "source": [
    "### Pipeline for linear and polynomial regressions\n",
    "def PolynomialRegression(degree=2,**kwargs):\n",
    "    return make_pipeline(PolynomialFeatures(degree),LinearRegression(**kwargs))\n",
    "\n",
    "### Intialize the hyper parameters \n",
    "param_grid = {'polynomialfeatures__degree':np.arange(21),\n",
    "              'linearregression__fit_intercept':[True,False],\n",
    "              'linearregression__normalize':[True,False]}\n",
    "\n",
    "### Find out the degree of the polynomial which provides the best fit for the given data\n",
    "grid = GridSearchCV(PolynomialRegression(),param_grid,cv=7)\n",
    "grid.fit(X_train,y_train)\n",
    "model = grid.best_estimator_\n",
    "### Prediction using the parameters obtained from GridSearchCV\n",
    "y_pred = model.fit(X_train,y_train).predict(X_test)\n",
    "print(r2_score(y_test,y_pred))\n",
    "print(grid.best_params_)"
   ]
  },
  {
   "cell_type": "code",
   "execution_count": null,
   "metadata": {},
   "outputs": [],
   "source": []
  }
 ]
}