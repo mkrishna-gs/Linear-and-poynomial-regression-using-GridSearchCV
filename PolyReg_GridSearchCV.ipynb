{
 "cells": [
  {
   "cell_type": "code",
   "execution_count": 2,
   "metadata": {},
   "outputs": [],
   "source": [
    "from sklearn.preprocessing import PolynomialFeatures\n",
    "from sklearn.linear_model import LinearRegression\n",
    "from sklearn.pipeline import make_pipeline\n",
    "from sklearn.metrics import r2_score\n",
    "import numpy as np\n",
    "import pandas as pd\n",
    "from sklearn.model_selection import GridSearchCV\n",
    "import warnings\n",
    "warnings.filterwarnings(\"ignore\")"
   ]
  },
  {
   "cell_type": "code",
   "execution_count": 3,
   "metadata": {},
   "outputs": [],
   "source": [
    "df_train = pd.read_csv('train.csv')\n",
    "df_test = pd.read_csv('test.csv')\n",
    "X_train = df_train['x'].values.reshape(-1,1)\n",
    "y_train = df_train['y']\n",
    "X_test = df_test['x'].values.reshape(-1,1)\n",
    "y_test = df_test['y']"
   ]
  },
  {
   "cell_type": "code",
   "execution_count": 4,
   "metadata": {},
   "outputs": [
    {
     "output_type": "stream",
     "name": "stdout",
     "text": [
      "R2 score using polynomial regression: 0.9887991524196075\n"
     ]
    }
   ],
   "source": [
    "def PolynomialRegression(degree=2,**kwargs):\n",
    "    return make_pipeline(PolynomialFeatures(degree),LinearRegression(**kwargs))\n",
    "\n",
    "### Intialize the hyper parameters \n",
    "param_grid_poly = {'polynomialfeatures__degree':np.arange(21), \n",
    "                   'linearregression__fit_intercept':[True,False],\n",
    "                   'linearregression__normalize':[True,False]}\n",
    "\n",
    "### Find out the degree of the polynomial which provides the best fit for the given data\n",
    "grid = GridSearchCV(PolynomialRegression(),param_grid_poly,cv=7)\n",
    "grid.fit(X_train,y_train)\n",
    "poly_model = grid.best_estimator_\n",
    "### Prediction using the parameters obtained from GridSearchCV\n",
    "y_pred = poly_model.fit(X_train,y_train).predict(X_test)\n",
    "print(f'R2 score using polynomial regression: {r2_score(y_test,y_pred)}')\n",
    "#print(grid.best_params_)"
   ]
  },
  {
   "cell_type": "code",
   "execution_count": 5,
   "metadata": {},
   "outputs": [
    {
     "output_type": "stream",
     "name": "stdout",
     "text": [
      "R2 score using linear regression: 0.988771681186158\n"
     ]
    }
   ],
   "source": [
    "### Intialize the hyper parameters \n",
    "param_grid_linear = {'fit_intercept':[True,False],\n",
    "                     'normalize':[True,False]}\n",
    "\n",
    "### Find out the degree of the polynomial which provides the best fit for the given data\n",
    "grid = GridSearchCV(LinearRegression(),param_grid_linear,cv=7)\n",
    "grid.fit(X_train,y_train)\n",
    "linear_model = grid.best_estimator_\n",
    "### Prediction using the parameters obtained from GridSearchCV\n",
    "y_pred = linear_model.fit(X_train,y_train).predict(X_test)\n",
    "print(f'R2 score using linear regression: {r2_score(y_test,y_pred)}')\n",
    "#print(grid.best_params_)"
   ]
  },
  {
   "cell_type": "code",
   "execution_count": null,
   "metadata": {},
   "outputs": [],
   "source": []
  }
 ],
 "metadata": {
  "kernelspec": {
   "display_name": "Python 3",
   "language": "python",
   "name": "python3"
  },
  "language_info": {
   "codemirror_mode": {
    "name": "ipython",
    "version": 3
   },
   "file_extension": ".py",
   "mimetype": "text/x-python",
   "name": "python",
   "nbconvert_exporter": "python",
   "pygments_lexer": "ipython3",
   "version": "3.8.5-final"
  }
 },
 "nbformat": 4,
 "nbformat_minor": 2
}